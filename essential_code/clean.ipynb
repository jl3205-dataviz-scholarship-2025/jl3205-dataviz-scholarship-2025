{
 "cells": [
  {
   "cell_type": "code",
   "execution_count": 5,
   "metadata": {},
   "outputs": [],
   "source": [
    "import pandas as pd\n",
    "\n",
    "df = pd.read_csv(\"../raw_data/security_incidents.csv\")\n",
    "# df.head()\n",
    "\n",
    "categorical_columns = ['Country Code', 'Country', 'Region', 'District', 'City', 'Actor name', 'Motive', 'Verified']\n",
    "\n",
    "for col in categorical_columns:\n",
    "    df[col] = df[col].fillna(\"Unknown\")\n",
    "\n",
    "df['Month'] = df['Month'].fillna(df['Month'].median()).astype(int)\n",
    "df['Day'] = df['Day'].fillna(df['Day'].median()).astype(int)\n",
    "\n",
    "org_cols = [\"ICRC\", \"NRCS and IFRC\", \"NNGO\"]\n",
    "df[org_cols] = df[org_cols].fillna(0).astype(int)\n",
    "\n",
    "df_clean = df.dropna(subset=[\"Latitude\", \"Longitude\"])\n",
    "df_clean = df_clean.drop_duplicates()\n",
    "\n",
    "object_cols = df_clean.select_dtypes(include=['object']).columns\n",
    "for col in object_cols:\n",
    "    df_clean[col] = df_clean[col].astype(str).str.strip()\n",
    "\n",
    "df_clean.to_csv(\"../clean_data/security_incidents_cleaned.csv\", index=False)"
   ]
  }
 ],
 "metadata": {
  "kernelspec": {
   "display_name": "base",
   "language": "python",
   "name": "python3"
  },
  "language_info": {
   "codemirror_mode": {
    "name": "ipython",
    "version": 3
   },
   "file_extension": ".py",
   "mimetype": "text/x-python",
   "name": "python",
   "nbconvert_exporter": "python",
   "pygments_lexer": "ipython3",
   "version": "3.11.7"
  }
 },
 "nbformat": 4,
 "nbformat_minor": 2
}
